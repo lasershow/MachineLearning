{
 "cells": [
  {
   "cell_type": "code",
   "execution_count": 1,
   "metadata": {
    "collapsed": true
   },
   "outputs": [],
   "source": [
    "import numpy as np\n",
    "from sklearn.datasets import load_boston\n",
    "boston = load_boston()\n",
    "import pandas as pd\n",
    "X=pd.DataFrame(boston.data[:100,:], columns=boston.feature_names)\n",
    "y=boston.target[:100]"
   ]
  },
  {
   "cell_type": "code",
   "execution_count": 2,
   "metadata": {
    "collapsed": true
   },
   "outputs": [],
   "source": [
    "#説明変数をLSTATだけにする\n",
    "x=X['LSTAT'].values"
   ]
  },
  {
   "cell_type": "code",
   "execution_count": 3,
   "metadata": {
    "collapsed": false
   },
   "outputs": [
    {
     "data": {
      "text/plain": [
       "<matplotlib.collections.PathCollection at 0x1178eb160>"
      ]
     },
     "execution_count": 3,
     "metadata": {},
     "output_type": "execute_result"
    },
    {
     "data": {
      "image/png": "[encoded data removed]",
      "text/plain": [
       "<matplotlib.figure.Figure at 0x10d092b00>"
      ]
     },
     "metadata": {},
     "output_type": "display_data"
    }
   ],
   "source": [
    "#散布図描画\n",
    "import matplotlib.pyplot as plt\n",
    "import seaborn as sns\n",
    "%matplotlib inline\n",
    "plt.scatter(x,y)"
   ]
  },
  {
   "cell_type": "code",
   "execution_count": 4,
   "metadata": {
    "collapsed": true
   },
   "outputs": [],
   "source": [
    "#線形回帰のインスタンス\n",
    "from sklearn.linear_model import LinearRegression\n",
    "lin_1d = LinearRegression()"
   ]
  },
  {
   "cell_type": "code",
   "execution_count": 5,
   "metadata": {
    "collapsed": false
   },
   "outputs": [
    {
     "data": {
      "text/plain": [
       "LinearRegression(copy_X=True, fit_intercept=True, n_jobs=1, normalize=False)"
      ]
     },
     "execution_count": 5,
     "metadata": {},
     "output_type": "execute_result"
    }
   ],
   "source": [
    "#パラメータ（傾き・切片）を求める　fitの引数は行列のため　x[:,None]　にする\n",
    "lin_1d.fit(x[:,None],y)"
   ]
  },
  {
   "cell_type": "code",
   "execution_count": 9,
   "metadata": {
    "collapsed": false
   },
   "outputs": [
    {
     "data": {
      "text/plain": [
       "1"
      ]
     },
     "execution_count": 9,
     "metadata": {},
     "output_type": "execute_result"
    }
   ],
   "source": [
    "#ndimで次元を求める　ベクトル１、行列２\n",
    "x.ndim"
   ]
  },
  {
   "cell_type": "code",
   "execution_count": 8,
   "metadata": {
    "collapsed": false
   },
   "outputs": [
    {
     "data": {
      "text/plain": [
       "2"
      ]
     },
     "execution_count": 8,
     "metadata": {},
     "output_type": "execute_result"
    }
   ],
   "source": [
    "x[:,None].ndim"
   ]
  },
  {
   "cell_type": "code",
   "execution_count": 12,
   "metadata": {
    "collapsed": false
   },
   "outputs": [
    {
     "data": {
      "text/plain": [
       "<function matplotlib.pyplot.plot>"
      ]
     },
     "execution_count": 12,
     "metadata": {},
     "output_type": "execute_result"
    },
    {
     "data": {
      "image/png": "[encoded data removed]",
      "text/plain": [
       "<matplotlib.figure.Figure at 0x117f30588>"
      ]
     },
     "metadata": {},
     "output_type": "display_data"
    }
   ],
   "source": [
    "#まずプロット用のデータを用意します。\n",
    "n = np.linspace(np.min(x),np.max(x), 1000)\n",
    "y_1d_fit=lin_1d.predict(n[:,np.newaxis])\n",
    "\n",
    "plt.title(\"Boston House Price\")\n",
    "plt.scatter(x,y,label='data')\n",
    "plt.plot(n,y_1d_fit,'r',label='1d_lin')\n",
    "plt.ylim(10,40)#グラフを見やすくするためにｙ軸のプロット範囲を絞っているだけです。\n",
    "plt.xlabel(\"LSTAT\")\n",
    "plt.ylabel(\"price\")\n",
    "plt.legend()\n",
    "plt.plot"
   ]
  },
  {
   "cell_type": "code",
   "execution_count": 13,
   "metadata": {
    "collapsed": false
   },
   "outputs": [
    {
     "data": {
      "text/plain": [
       "array([ 11.30238006])"
      ]
     },
     "execution_count": 13,
     "metadata": {},
     "output_type": "execute_result"
    }
   ],
   "source": [
    "#LSTATが２５の場合の予測値\n",
    "lin_1d.predict(25)"
   ]
  },
  {
   "cell_type": "code",
   "execution_count": 14,
   "metadata": {
    "collapsed": true
   },
   "outputs": [],
   "source": [
    "#二次関数でフィッティングするために二乗の項を作る\n",
    "from sklearn.preprocessing import PolynomialFeatures\n",
    "degree_2=PolynomialFeatures(degree=2)"
   ]
  },
  {
   "cell_type": "code",
   "execution_count": 16,
   "metadata": {
    "collapsed": false
   },
   "outputs": [
    {
     "data": {
      "text/plain": [
       "array([[   1.    ,    4.98  ,   24.8004],\n",
       "       [   1.    ,    9.14  ,   83.5396],\n",
       "       [   1.    ,    4.03  ,   16.2409],\n",
       "       [   1.    ,    2.94  ,    8.6436],\n",
       "       [   1.    ,    5.33  ,   28.4089],\n",
       "       [   1.    ,    5.21  ,   27.1441],\n",
       "       [   1.    ,   12.43  ,  154.5049],\n",
       "       [   1.    ,   19.15  ,  366.7225],\n",
       "       [   1.    ,   29.93  ,  895.8049],\n",
       "       [   1.    ,   17.1   ,  292.41  ],\n",
       "       [   1.    ,   20.45  ,  418.2025],\n",
       "       [   1.    ,   13.27  ,  176.0929],\n",
       "       [   1.    ,   15.71  ,  246.8041],\n",
       "       [   1.    ,    8.26  ,   68.2276],\n",
       "       [   1.    ,   10.26  ,  105.2676],\n",
       "       [   1.    ,    8.47  ,   71.7409],\n",
       "       [   1.    ,    6.58  ,   43.2964],\n",
       "       [   1.    ,   14.67  ,  215.2089],\n",
       "       [   1.    ,   11.69  ,  136.6561],\n",
       "       [   1.    ,   11.28  ,  127.2384],\n",
       "       [   1.    ,   21.02  ,  441.8404],\n",
       "       [   1.    ,   13.83  ,  191.2689],\n",
       "       [   1.    ,   18.72  ,  350.4384],\n",
       "       [   1.    ,   19.88  ,  395.2144],\n",
       "       [   1.    ,   16.3   ,  265.69  ],\n",
       "       [   1.    ,   16.51  ,  272.5801],\n",
       "       [   1.    ,   14.81  ,  219.3361],\n",
       "       [   1.    ,   17.28  ,  298.5984],\n",
       "       [   1.    ,   12.8   ,  163.84  ],\n",
       "       [   1.    ,   11.98  ,  143.5204],\n",
       "       [   1.    ,   22.6   ,  510.76  ],\n",
       "       [   1.    ,   13.04  ,  170.0416],\n",
       "       [   1.    ,   27.71  ,  767.8441],\n",
       "       [   1.    ,   18.35  ,  336.7225],\n",
       "       [   1.    ,   20.34  ,  413.7156],\n",
       "       [   1.    ,    9.68  ,   93.7024],\n",
       "       [   1.    ,   11.41  ,  130.1881],\n",
       "       [   1.    ,    8.77  ,   76.9129],\n",
       "       [   1.    ,   10.13  ,  102.6169],\n",
       "       [   1.    ,    4.32  ,   18.6624],\n",
       "       [   1.    ,    1.98  ,    3.9204],\n",
       "       [   1.    ,    4.84  ,   23.4256],\n",
       "       [   1.    ,    5.81  ,   33.7561],\n",
       "       [   1.    ,    7.44  ,   55.3536],\n",
       "       [   1.    ,    9.55  ,   91.2025],\n",
       "       [   1.    ,   10.21  ,  104.2441],\n",
       "       [   1.    ,   14.15  ,  200.2225],\n",
       "       [   1.    ,   18.8   ,  353.44  ],\n",
       "       [   1.    ,   30.81  ,  949.2561],\n",
       "       [   1.    ,   16.2   ,  262.44  ],\n",
       "       [   1.    ,   13.45  ,  180.9025],\n",
       "       [   1.    ,    9.43  ,   88.9249],\n",
       "       [   1.    ,    5.28  ,   27.8784],\n",
       "       [   1.    ,    8.43  ,   71.0649],\n",
       "       [   1.    ,   14.8   ,  219.04  ],\n",
       "       [   1.    ,    4.81  ,   23.1361],\n",
       "       [   1.    ,    5.77  ,   33.2929],\n",
       "       [   1.    ,    3.95  ,   15.6025],\n",
       "       [   1.    ,    6.86  ,   47.0596],\n",
       "       [   1.    ,    9.22  ,   85.0084],\n",
       "       [   1.    ,   13.15  ,  172.9225],\n",
       "       [   1.    ,   14.44  ,  208.5136],\n",
       "       [   1.    ,    6.73  ,   45.2929],\n",
       "       [   1.    ,    9.5   ,   90.25  ],\n",
       "       [   1.    ,    8.05  ,   64.8025],\n",
       "       [   1.    ,    4.67  ,   21.8089],\n",
       "       [   1.    ,   10.24  ,  104.8576],\n",
       "       [   1.    ,    8.1   ,   65.61  ],\n",
       "       [   1.    ,   13.09  ,  171.3481],\n",
       "       [   1.    ,    8.79  ,   77.2641],\n",
       "       [   1.    ,    6.72  ,   45.1584],\n",
       "       [   1.    ,    9.88  ,   97.6144],\n",
       "       [   1.    ,    5.52  ,   30.4704],\n",
       "       [   1.    ,    7.54  ,   56.8516],\n",
       "       [   1.    ,    6.78  ,   45.9684],\n",
       "       [   1.    ,    8.94  ,   79.9236],\n",
       "       [   1.    ,   11.97  ,  143.2809],\n",
       "       [   1.    ,   10.27  ,  105.4729],\n",
       "       [   1.    ,   12.34  ,  152.2756],\n",
       "       [   1.    ,    9.1   ,   82.81  ],\n",
       "       [   1.    ,    5.29  ,   27.9841],\n",
       "       [   1.    ,    7.22  ,   52.1284],\n",
       "       [   1.    ,    6.72  ,   45.1584],\n",
       "       [   1.    ,    7.51  ,   56.4001],\n",
       "       [   1.    ,    9.62  ,   92.5444],\n",
       "       [   1.    ,    6.53  ,   42.6409],\n",
       "       [   1.    ,   12.86  ,  165.3796],\n",
       "       [   1.    ,    8.44  ,   71.2336],\n",
       "       [   1.    ,    5.5   ,   30.25  ],\n",
       "       [   1.    ,    5.7   ,   32.49  ],\n",
       "       [   1.    ,    8.81  ,   77.6161],\n",
       "       [   1.    ,    8.2   ,   67.24  ],\n",
       "       [   1.    ,    8.16  ,   66.5856],\n",
       "       [   1.    ,    6.21  ,   38.5641],\n",
       "       [   1.    ,   10.59  ,  112.1481],\n",
       "       [   1.    ,    6.65  ,   44.2225],\n",
       "       [   1.    ,   11.34  ,  128.5956],\n",
       "       [   1.    ,    4.21  ,   17.7241],\n",
       "       [   1.    ,    3.57  ,   12.7449],\n",
       "       [   1.    ,    6.19  ,   38.3161]])"
      ]
     },
     "execution_count": 16,
     "metadata": {},
     "output_type": "execute_result"
    }
   ],
   "source": [
    "x_2=degree_2.fit_transform(x[:,None])\n",
    "x_2"
   ]
  },
  {
   "cell_type": "code",
   "execution_count": 18,
   "metadata": {
    "collapsed": false
   },
   "outputs": [
    {
     "data": {
      "text/plain": [
       "LinearRegression(copy_X=True, fit_intercept=True, n_jobs=1, normalize=False)"
      ]
     },
     "execution_count": 18,
     "metadata": {},
     "output_type": "execute_result"
    }
   ],
   "source": [
    "#２次関数でフィッティングを行う\n",
    "lin_2d = LinearRegression()\n",
    "lin_2d.fit(x_2,y)"
   ]
  },
  {
   "cell_type": "code",
   "execution_count": 20,
   "metadata": {
    "collapsed": false
   },
   "outputs": [
    {
     "data": {
      "text/plain": [
       "<function matplotlib.pyplot.plot>"
      ]
     },
     "execution_count": 20,
     "metadata": {},
     "output_type": "execute_result"
    },
    {
     "data": {
      "image/png": "[encoded data removed]",
      "text/plain": [
       "<matplotlib.figure.Figure at 0x118522048>"
      ]
     },
     "metadata": {},
     "output_type": "display_data"
    }
   ],
   "source": [
    "#まずプロット用のデータを用意します。\n",
    "n = np.linspace(np.min(x),np.max(x), 1000)\n",
    "y_2d_fit=lin_2d.predict(degree_2.fit_transform(n[:,np.newaxis]))\n",
    "y_1d_fit=lin_1d.predict(n[:,np.newaxis])\n",
    "\n",
    "plt.title(\"Boston House Price\")\n",
    "plt.scatter(x,y,label='data')\n",
    "plt.plot(n,y_2d_fit,'g',label='2d_lin')\n",
    "plt.plot(n,y_1d_fit,'r',label='1d_lin')\n",
    "plt.ylim(10,40)#グラフを見やすくするためにｙ軸のプロット範囲を絞ります。\n",
    "plt.xlabel(\"LSTAT\")\n",
    "plt.ylabel(\"price\")\n",
    "plt.legend()\n",
    "plt.plot"
   ]
  },
  {
   "cell_type": "code",
   "execution_count": 24,
   "metadata": {
    "collapsed": false
   },
   "outputs": [
    {
     "data": {
      "text/plain": [
       "15.537906007479371"
      ]
     },
     "execution_count": 24,
     "metadata": {},
     "output_type": "execute_result"
    }
   ],
   "source": [
    "from sklearn.metrics import mean_squared_error\n",
    "#1次関数の2乗和誤差\n",
    "mean_squared_error(y,lin_1d.predict(x[:,None]))"
   ]
  },
  {
   "cell_type": "code",
   "execution_count": 25,
   "metadata": {
    "collapsed": false
   },
   "outputs": [
    {
     "data": {
      "text/plain": [
       "10.920226905348915"
      ]
     },
     "execution_count": 25,
     "metadata": {},
     "output_type": "execute_result"
    }
   ],
   "source": [
    "#２次関数の2乗和誤差\n",
    "mean_squared_error(y,lin_2d.predict(x_2))"
   ]
  },
  {
   "cell_type": "code",
   "execution_count": 36,
   "metadata": {
    "collapsed": true
   },
   "outputs": [],
   "source": [
    "#３次関数でフィッティングを行うため、３乗の項を作る\n",
    "degree_3=PolynomialFeatures(degree=3)\n",
    "\n",
    "#4次関数でフィッティングを行うため、4乗の項を作る\n",
    "degree_4=PolynomialFeatures(degree=4)"
   ]
  },
  {
   "cell_type": "code",
   "execution_count": 38,
   "metadata": {
    "collapsed": false
   },
   "outputs": [
    {
     "data": {
      "text/plain": [
       "array([[  1.00000000e+00,   4.98000000e+00,   2.48004000e+01,\n",
       "          1.23505992e+02,   6.15059840e+02],\n",
       "       [  1.00000000e+00,   9.14000000e+00,   8.35396000e+01,\n",
       "          7.63551944e+02,   6.97886477e+03],\n",
       "       [  1.00000000e+00,   4.03000000e+00,   1.62409000e+01,\n",
       "          6.54508270e+01,   2.63766833e+02],\n",
       "       [  1.00000000e+00,   2.94000000e+00,   8.64360000e+00,\n",
       "          2.54121840e+01,   7.47118210e+01],\n",
       "       [  1.00000000e+00,   5.33000000e+00,   2.84089000e+01,\n",
       "          1.51419437e+02,   8.07065599e+02],\n",
       "       [  1.00000000e+00,   5.21000000e+00,   2.71441000e+01,\n",
       "          1.41420761e+02,   7.36802165e+02],\n",
       "       [  1.00000000e+00,   1.24300000e+01,   1.54504900e+02,\n",
       "          1.92049591e+03,   2.38717641e+04],\n",
       "       [  1.00000000e+00,   1.91500000e+01,   3.66722500e+02,\n",
       "          7.02273587e+03,   1.34485392e+05],\n",
       "       [  1.00000000e+00,   2.99300000e+01,   8.95804900e+02,\n",
       "          2.68114407e+04,   8.02466419e+05],\n",
       "       [  1.00000000e+00,   1.71000000e+01,   2.92410000e+02,\n",
       "          5.00021100e+03,   8.55036081e+04],\n",
       "       [  1.00000000e+00,   2.04500000e+01,   4.18202500e+02,\n",
       "          8.55224112e+03,   1.74893331e+05],\n",
       "       [  1.00000000e+00,   1.32700000e+01,   1.76092900e+02,\n",
       "          2.33675278e+03,   3.10087094e+04],\n",
       "       [  1.00000000e+00,   1.57100000e+01,   2.46804100e+02,\n",
       "          3.87729241e+03,   6.09122638e+04],\n",
       "       [  1.00000000e+00,   8.26000000e+00,   6.82276000e+01,\n",
       "          5.63559976e+02,   4.65500540e+03],\n",
       "       [  1.00000000e+00,   1.02600000e+01,   1.05267600e+02,\n",
       "          1.08004558e+03,   1.10812676e+04],\n",
       "       [  1.00000000e+00,   8.47000000e+00,   7.17409000e+01,\n",
       "          6.07645423e+02,   5.14675673e+03],\n",
       "       [  1.00000000e+00,   6.58000000e+00,   4.32964000e+01,\n",
       "          2.84890312e+02,   1.87457825e+03],\n",
       "       [  1.00000000e+00,   1.46700000e+01,   2.15208900e+02,\n",
       "          3.15711456e+03,   4.63148706e+04],\n",
       "       [  1.00000000e+00,   1.16900000e+01,   1.36656100e+02,\n",
       "          1.59750981e+03,   1.86748897e+04],\n",
       "       [  1.00000000e+00,   1.12800000e+01,   1.27238400e+02,\n",
       "          1.43524915e+03,   1.61896104e+04],\n",
       "       [  1.00000000e+00,   2.10200000e+01,   4.41840400e+02,\n",
       "          9.28748521e+03,   1.95222939e+05],\n",
       "       [  1.00000000e+00,   1.38300000e+01,   1.91268900e+02,\n",
       "          2.64524889e+03,   3.65837921e+04],\n",
       "       [  1.00000000e+00,   1.87200000e+01,   3.50438400e+02,\n",
       "          6.56020685e+03,   1.22807072e+05],\n",
       "       [  1.00000000e+00,   1.98800000e+01,   3.95214400e+02,\n",
       "          7.85686227e+03,   1.56194422e+05],\n",
       "       [  1.00000000e+00,   1.63000000e+01,   2.65690000e+02,\n",
       "          4.33074700e+03,   7.05911761e+04],\n",
       "       [  1.00000000e+00,   1.65100000e+01,   2.72580100e+02,\n",
       "          4.50029745e+03,   7.42999109e+04],\n",
       "       [  1.00000000e+00,   1.48100000e+01,   2.19336100e+02,\n",
       "          3.24836764e+03,   4.81083248e+04],\n",
       "       [  1.00000000e+00,   1.72800000e+01,   2.98598400e+02,\n",
       "          5.15978035e+03,   8.91610045e+04],\n",
       "       [  1.00000000e+00,   1.28000000e+01,   1.63840000e+02,\n",
       "          2.09715200e+03,   2.68435456e+04],\n",
       "       [  1.00000000e+00,   1.19800000e+01,   1.43520400e+02,\n",
       "          1.71937439e+03,   2.05981052e+04],\n",
       "       [  1.00000000e+00,   2.26000000e+01,   5.10760000e+02,\n",
       "          1.15431760e+04,   2.60875778e+05],\n",
       "       [  1.00000000e+00,   1.30400000e+01,   1.70041600e+02,\n",
       "          2.21734246e+03,   2.89141457e+04],\n",
       "       [  1.00000000e+00,   2.77100000e+01,   7.67844100e+02,\n",
       "          2.12769600e+04,   5.89584562e+05],\n",
       "       [  1.00000000e+00,   1.83500000e+01,   3.36722500e+02,\n",
       "          6.17885788e+03,   1.13382042e+05],\n",
       "       [  1.00000000e+00,   2.03400000e+01,   4.13715600e+02,\n",
       "          8.41497530e+03,   1.71160598e+05],\n",
       "       [  1.00000000e+00,   9.68000000e+00,   9.37024000e+01,\n",
       "          9.07039232e+02,   8.78013977e+03],\n",
       "       [  1.00000000e+00,   1.14100000e+01,   1.30188100e+02,\n",
       "          1.48544622e+03,   1.69489414e+04],\n",
       "       [  1.00000000e+00,   8.77000000e+00,   7.69129000e+01,\n",
       "          6.74526133e+02,   5.91559419e+03],\n",
       "       [  1.00000000e+00,   1.01300000e+01,   1.02616900e+02,\n",
       "          1.03950920e+03,   1.05302282e+04],\n",
       "       [  1.00000000e+00,   4.32000000e+00,   1.86624000e+01,\n",
       "          8.06215680e+01,   3.48285174e+02],\n",
       "       [  1.00000000e+00,   1.98000000e+00,   3.92040000e+00,\n",
       "          7.76239200e+00,   1.53695362e+01],\n",
       "       [  1.00000000e+00,   4.84000000e+00,   2.34256000e+01,\n",
       "          1.13379904e+02,   5.48758735e+02],\n",
       "       [  1.00000000e+00,   5.81000000e+00,   3.37561000e+01,\n",
       "          1.96122941e+02,   1.13947429e+03],\n",
       "       [  1.00000000e+00,   7.44000000e+00,   5.53536000e+01,\n",
       "          4.11830784e+02,   3.06402103e+03],\n",
       "       [  1.00000000e+00,   9.55000000e+00,   9.12025000e+01,\n",
       "          8.70983875e+02,   8.31789601e+03],\n",
       "       [  1.00000000e+00,   1.02100000e+01,   1.04244100e+02,\n",
       "          1.06433226e+03,   1.08668324e+04],\n",
       "       [  1.00000000e+00,   1.41500000e+01,   2.00222500e+02,\n",
       "          2.83314838e+03,   4.00890495e+04],\n",
       "       [  1.00000000e+00,   1.88000000e+01,   3.53440000e+02,\n",
       "          6.64467200e+03,   1.24919834e+05],\n",
       "       [  1.00000000e+00,   3.08100000e+01,   9.49256100e+02,\n",
       "          2.92465804e+04,   9.01087143e+05],\n",
       "       [  1.00000000e+00,   1.62000000e+01,   2.62440000e+02,\n",
       "          4.25152800e+03,   6.88747536e+04],\n",
       "       [  1.00000000e+00,   1.34500000e+01,   1.80902500e+02,\n",
       "          2.43313862e+03,   3.27257145e+04],\n",
       "       [  1.00000000e+00,   9.43000000e+00,   8.89249000e+01,\n",
       "          8.38561807e+02,   7.90763784e+03],\n",
       "       [  1.00000000e+00,   5.28000000e+00,   2.78784000e+01,\n",
       "          1.47197952e+02,   7.77205187e+02],\n",
       "       [  1.00000000e+00,   8.43000000e+00,   7.10649000e+01,\n",
       "          5.99077107e+02,   5.05022001e+03],\n",
       "       [  1.00000000e+00,   1.48000000e+01,   2.19040000e+02,\n",
       "          3.24179200e+03,   4.79785216e+04],\n",
       "       [  1.00000000e+00,   4.81000000e+00,   2.31361000e+01,\n",
       "          1.11284641e+02,   5.35279123e+02],\n",
       "       [  1.00000000e+00,   5.77000000e+00,   3.32929000e+01,\n",
       "          1.92100033e+02,   1.10841719e+03],\n",
       "       [  1.00000000e+00,   3.95000000e+00,   1.56025000e+01,\n",
       "          6.16298750e+01,   2.43438006e+02],\n",
       "       [  1.00000000e+00,   6.86000000e+00,   4.70596000e+01,\n",
       "          3.22828856e+02,   2.21460595e+03],\n",
       "       [  1.00000000e+00,   9.22000000e+00,   8.50084000e+01,\n",
       "          7.83777448e+02,   7.22642807e+03],\n",
       "       [  1.00000000e+00,   1.31500000e+01,   1.72922500e+02,\n",
       "          2.27393088e+03,   2.99021910e+04],\n",
       "       [  1.00000000e+00,   1.44400000e+01,   2.08513600e+02,\n",
       "          3.01093638e+03,   4.34779214e+04],\n",
       "       [  1.00000000e+00,   6.73000000e+00,   4.52929000e+01,\n",
       "          3.04821217e+02,   2.05144679e+03],\n",
       "       [  1.00000000e+00,   9.50000000e+00,   9.02500000e+01,\n",
       "          8.57375000e+02,   8.14506250e+03],\n",
       "       [  1.00000000e+00,   8.05000000e+00,   6.48025000e+01,\n",
       "          5.21660125e+02,   4.19936401e+03],\n",
       "       [  1.00000000e+00,   4.67000000e+00,   2.18089000e+01,\n",
       "          1.01847563e+02,   4.75628119e+02],\n",
       "       [  1.00000000e+00,   1.02400000e+01,   1.04857600e+02,\n",
       "          1.07374182e+03,   1.09951163e+04],\n",
       "       [  1.00000000e+00,   8.10000000e+00,   6.56100000e+01,\n",
       "          5.31441000e+02,   4.30467210e+03],\n",
       "       [  1.00000000e+00,   1.30900000e+01,   1.71348100e+02,\n",
       "          2.24294663e+03,   2.93601714e+04],\n",
       "       [  1.00000000e+00,   8.79000000e+00,   7.72641000e+01,\n",
       "          6.79151439e+02,   5.96974115e+03],\n",
       "       [  1.00000000e+00,   6.72000000e+00,   4.51584000e+01,\n",
       "          3.03464448e+02,   2.03928109e+03],\n",
       "       [  1.00000000e+00,   9.88000000e+00,   9.76144000e+01,\n",
       "          9.64430272e+02,   9.52857109e+03],\n",
       "       [  1.00000000e+00,   5.52000000e+00,   3.04704000e+01,\n",
       "          1.68196608e+02,   9.28445276e+02],\n",
       "       [  1.00000000e+00,   7.54000000e+00,   5.68516000e+01,\n",
       "          4.28661064e+02,   3.23210442e+03],\n",
       "       [  1.00000000e+00,   6.78000000e+00,   4.59684000e+01,\n",
       "          3.11665752e+02,   2.11309380e+03],\n",
       "       [  1.00000000e+00,   8.94000000e+00,   7.99236000e+01,\n",
       "          7.14516984e+02,   6.38778184e+03],\n",
       "       [  1.00000000e+00,   1.19700000e+01,   1.43280900e+02,\n",
       "          1.71507237e+03,   2.05294163e+04],\n",
       "       [  1.00000000e+00,   1.02700000e+01,   1.05472900e+02,\n",
       "          1.08320668e+03,   1.11245326e+04],\n",
       "       [  1.00000000e+00,   1.23400000e+01,   1.52275600e+02,\n",
       "          1.87908090e+03,   2.31878584e+04],\n",
       "       [  1.00000000e+00,   9.10000000e+00,   8.28100000e+01,\n",
       "          7.53571000e+02,   6.85749610e+03],\n",
       "       [  1.00000000e+00,   5.29000000e+00,   2.79841000e+01,\n",
       "          1.48035889e+02,   7.83109853e+02],\n",
       "       [  1.00000000e+00,   7.22000000e+00,   5.21284000e+01,\n",
       "          3.76367048e+02,   2.71737009e+03],\n",
       "       [  1.00000000e+00,   6.72000000e+00,   4.51584000e+01,\n",
       "          3.03464448e+02,   2.03928109e+03],\n",
       "       [  1.00000000e+00,   7.51000000e+00,   5.64001000e+01,\n",
       "          4.23564751e+02,   3.18097128e+03],\n",
       "       [  1.00000000e+00,   9.62000000e+00,   9.25444000e+01,\n",
       "          8.90277128e+02,   8.56446597e+03],\n",
       "       [  1.00000000e+00,   6.53000000e+00,   4.26409000e+01,\n",
       "          2.78445077e+02,   1.81824635e+03],\n",
       "       [  1.00000000e+00,   1.28600000e+01,   1.65379600e+02,\n",
       "          2.12678166e+03,   2.73504121e+04],\n",
       "       [  1.00000000e+00,   8.44000000e+00,   7.12336000e+01,\n",
       "          6.01211584e+02,   5.07422577e+03],\n",
       "       [  1.00000000e+00,   5.50000000e+00,   3.02500000e+01,\n",
       "          1.66375000e+02,   9.15062500e+02],\n",
       "       [  1.00000000e+00,   5.70000000e+00,   3.24900000e+01,\n",
       "          1.85193000e+02,   1.05560010e+03],\n",
       "       [  1.00000000e+00,   8.81000000e+00,   7.76161000e+01,\n",
       "          6.83797841e+02,   6.02425898e+03],\n",
       "       [  1.00000000e+00,   8.20000000e+00,   6.72400000e+01,\n",
       "          5.51368000e+02,   4.52121760e+03],\n",
       "       [  1.00000000e+00,   8.16000000e+00,   6.65856000e+01,\n",
       "          5.43338496e+02,   4.43364213e+03],\n",
       "       [  1.00000000e+00,   6.21000000e+00,   3.85641000e+01,\n",
       "          2.39483061e+02,   1.48718981e+03],\n",
       "       [  1.00000000e+00,   1.05900000e+01,   1.12148100e+02,\n",
       "          1.18764838e+03,   1.25771963e+04],\n",
       "       [  1.00000000e+00,   6.65000000e+00,   4.42225000e+01,\n",
       "          2.94079625e+02,   1.95562951e+03],\n",
       "       [  1.00000000e+00,   1.13400000e+01,   1.28595600e+02,\n",
       "          1.45827410e+03,   1.65368283e+04],\n",
       "       [  1.00000000e+00,   4.21000000e+00,   1.77241000e+01,\n",
       "          7.46184610e+01,   3.14143721e+02],\n",
       "       [  1.00000000e+00,   3.57000000e+00,   1.27449000e+01,\n",
       "          4.54992930e+01,   1.62432476e+02],\n",
       "       [  1.00000000e+00,   6.19000000e+00,   3.83161000e+01,\n",
       "          2.37176659e+02,   1.46812352e+03]])"
      ]
     },
     "execution_count": 38,
     "metadata": {},
     "output_type": "execute_result"
    }
   ],
   "source": [
    "x_3=degree_3.fit_transform(x[:,None])\n",
    "x_3\n",
    "x_4=degree_4.fit_transform(x[:,None])\n",
    "x_4"
   ]
  },
  {
   "cell_type": "code",
   "execution_count": 39,
   "metadata": {
    "collapsed": false
   },
   "outputs": [
    {
     "data": {
      "text/plain": [
       "LinearRegression(copy_X=True, fit_intercept=True, n_jobs=1, normalize=False)"
      ]
     },
     "execution_count": 39,
     "metadata": {},
     "output_type": "execute_result"
    }
   ],
   "source": [
    "#３次関数でフィッティングを行う\n",
    "lin_3d = LinearRegression()\n",
    "lin_3d.fit(x_3,y)\n",
    "#4次関数でフィッティングを行う\n",
    "lin_4d = LinearRegression()\n",
    "lin_4d.fit(x_4,y)"
   ]
  },
  {
   "cell_type": "code",
   "execution_count": 58,
   "metadata": {
    "collapsed": false
   },
   "outputs": [
    {
     "data": {
      "text/plain": [
       "<function matplotlib.pyplot.plot>"
      ]
     },
     "execution_count": 58,
     "metadata": {},
     "output_type": "execute_result"
    },
    {
     "data": {
      "image/png": "[encoded data removed]",
      "text/plain": [
       "<matplotlib.figure.Figure at 0x118896b38>"
      ]
     },
     "metadata": {},
     "output_type": "display_data"
    }
   ],
   "source": [
    "#まずプロット用のデータを用意します。\n",
    "n = np.linspace(np.min(x),np.max(x), 1000)\n",
    "y_4d_fit=lin_4d.predict(degree_4.fit_transform(n[:,np.newaxis]))\n",
    "y_3d_fit=lin_3d.predict(degree_3.fit_transform(n[:,np.newaxis]))\n",
    "y_2d_fit=lin_2d.predict(degree_2.fit_transform(n[:,np.newaxis]))\n",
    "y_1d_fit=lin_1d.predict(n[:,np.newaxis])\n",
    "\n",
    "plt.title(\"Boston House Price\")\n",
    "plt.scatter(x,y,label='data')\n",
    "plt.plot(n,y_4d_fit,'y',label=\"4d_lin\")\n",
    "plt.plot(n,y_3d_fit,'b',label=\"3d_lin\")\n",
    "plt.plot(n,y_2d_fit,'g',label='2d_lin')\n",
    "plt.plot(n,y_1d_fit,'r',label='1d_lin')\n",
    "plt.ylim(10,40)#グラフを見やすくするためにｙ軸のプロット範囲を絞ります。\n",
    "plt.xlabel(\"LSTAT\")\n",
    "plt.ylabel(\"price\")\n",
    "plt.legend()\n",
    "plt.plot"
   ]
  },
  {
   "cell_type": "code",
   "execution_count": 41,
   "metadata": {
    "collapsed": false
   },
   "outputs": [
    {
     "data": {
      "text/plain": [
       "15.537906007479371"
      ]
     },
     "execution_count": 41,
     "metadata": {},
     "output_type": "execute_result"
    }
   ],
   "source": [
    "#1次関数の2乗和誤差\n",
    "mean_squared_error(y,lin_1d.predict(x[:,None]))"
   ]
  },
  {
   "cell_type": "code",
   "execution_count": 42,
   "metadata": {
    "collapsed": false
   },
   "outputs": [
    {
     "data": {
      "text/plain": [
       "10.920226905348915"
      ]
     },
     "execution_count": 42,
     "metadata": {},
     "output_type": "execute_result"
    }
   ],
   "source": [
    "#２次関数の2乗和誤差\n",
    "mean_squared_error(y,lin_2d.predict(x_2))"
   ]
  },
  {
   "cell_type": "code",
   "execution_count": 43,
   "metadata": {
    "collapsed": false
   },
   "outputs": [
    {
     "data": {
      "text/plain": [
       "10.055225709746381"
      ]
     },
     "execution_count": 43,
     "metadata": {},
     "output_type": "execute_result"
    }
   ],
   "source": [
    "#３乗の2乗和誤差\n",
    "mean_squared_error(y,lin_3d.predict(x_3))"
   ]
  },
  {
   "cell_type": "code",
   "execution_count": 44,
   "metadata": {
    "collapsed": false
   },
   "outputs": [
    {
     "data": {
      "text/plain": [
       "9.6173907154166862"
      ]
     },
     "execution_count": 44,
     "metadata": {},
     "output_type": "execute_result"
    }
   ],
   "source": [
    "#4乗の２乗和誤差\n",
    "mean_squared_error(y,lin_4d.predict(x_4))"
   ]
  },
  {
   "cell_type": "code",
   "execution_count": 45,
   "metadata": {
    "collapsed": true
   },
   "outputs": [],
   "source": [
    "#説明変数をAGEにする\n",
    "x=X['AGE'].values"
   ]
  },
  {
   "cell_type": "code",
   "execution_count": 51,
   "metadata": {
    "collapsed": true
   },
   "outputs": [],
   "source": [
    "#３次関数でフィッティングを行うため、３乗の項を作る\n",
    "degree_3=PolynomialFeatures(degree=3)\n",
    "\n",
    "#4次関数でフィッティングを行うため、4乗の項を作る\n",
    "degree_4=PolynomialFeatures(degree=4)"
   ]
  },
  {
   "cell_type": "code",
   "execution_count": 52,
   "metadata": {
    "collapsed": false
   },
   "outputs": [],
   "source": [
    "x_2=degree_2.fit_transform(x[:,None])\n",
    "x_3=degree_3.fit_transform(x[:,None])\n",
    "x_4=degree_4.fit_transform(x[:,None])"
   ]
  },
  {
   "cell_type": "code",
   "execution_count": 55,
   "metadata": {
    "collapsed": false
   },
   "outputs": [
    {
     "data": {
      "text/plain": [
       "LinearRegression(copy_X=True, fit_intercept=True, n_jobs=1, normalize=False)"
      ]
     },
     "execution_count": 55,
     "metadata": {},
     "output_type": "execute_result"
    }
   ],
   "source": [
    "lin_1d.fit(x[:,None],y)\n",
    "\n",
    "lin_2d = LinearRegression()\n",
    "lin_2d.fit(x_2,y)\n",
    "\n",
    "lin_3d = LinearRegression()\n",
    "lin_3d.fit(x_3,y)\n",
    "\n",
    "lin_4d = LinearRegression()\n",
    "lin_4d.fit(x_4,y)"
   ]
  },
  {
   "cell_type": "code",
   "execution_count": 57,
   "metadata": {
    "collapsed": false
   },
   "outputs": [
    {
     "data": {
      "text/plain": [
       "<function matplotlib.pyplot.plot>"
      ]
     },
     "execution_count": 57,
     "metadata": {},
     "output_type": "execute_result"
    },
    {
     "data": {
      "image/png": "[encoded data removed]",
      "text/plain": [
       "<matplotlib.figure.Figure at 0x1187eec18>"
      ]
     },
     "metadata": {},
     "output_type": "display_data"
    }
   ],
   "source": [
    "#まずプロット用のデータを用意します。\n",
    "n = np.linspace(np.min(x),np.max(x), 1000)\n",
    "y_4d_fit=lin_4d.predict(degree_4.fit_transform(n[:,np.newaxis]))\n",
    "y_3d_fit=lin_3d.predict(degree_3.fit_transform(n[:,np.newaxis]))\n",
    "y_2d_fit=lin_2d.predict(degree_2.fit_transform(n[:,np.newaxis]))\n",
    "y_1d_fit=lin_1d.predict(n[:,np.newaxis])\n",
    "\n",
    "plt.title(\"Boston House Price\")\n",
    "plt.scatter(x,y,label='data')\n",
    "plt.plot(n,y_4d_fit,'y',label=\"4d_lin\")\n",
    "plt.plot(n,y_3d_fit,'b',label=\"3d_lin\")\n",
    "plt.plot(n,y_2d_fit,'g',label='2d_lin')\n",
    "plt.plot(n,y_1d_fit,'r',label='1d_lin')\n",
    "plt.ylim(10,40)#グラフを見やすくするためにｙ軸のプロット範囲を絞ります。\n",
    "plt.xlabel(\"AGE\")\n",
    "plt.ylabel(\"price\")\n",
    "plt.legend()\n",
    "plt.plot"
   ]
  },
  {
   "cell_type": "code",
   "execution_count": 59,
   "metadata": {
    "collapsed": false
   },
   "outputs": [
    {
     "data": {
      "text/plain": [
       "26.754508704139507"
      ]
     },
     "execution_count": 59,
     "metadata": {},
     "output_type": "execute_result"
    }
   ],
   "source": [
    "#1次関数の2乗和誤差\n",
    "mean_squared_error(y,lin_1d.predict(x[:,None]))"
   ]
  },
  {
   "cell_type": "code",
   "execution_count": 60,
   "metadata": {
    "collapsed": false
   },
   "outputs": [
    {
     "data": {
      "text/plain": [
       "24.397088136515954"
      ]
     },
     "execution_count": 60,
     "metadata": {},
     "output_type": "execute_result"
    }
   ],
   "source": [
    "#２次関数の2乗和誤差\n",
    "mean_squared_error(y,lin_2d.predict(x_2))"
   ]
  },
  {
   "cell_type": "code",
   "execution_count": 61,
   "metadata": {
    "collapsed": false
   },
   "outputs": [
    {
     "data": {
      "text/plain": [
       "23.978242199677435"
      ]
     },
     "execution_count": 61,
     "metadata": {},
     "output_type": "execute_result"
    }
   ],
   "source": [
    "#3次関数の2乗和誤差\n",
    "mean_squared_error(y,lin_3d.predict(x_3))"
   ]
  },
  {
   "cell_type": "code",
   "execution_count": 62,
   "metadata": {
    "collapsed": false
   },
   "outputs": [
    {
     "data": {
      "text/plain": [
       "23.95681697681929"
      ]
     },
     "execution_count": 62,
     "metadata": {},
     "output_type": "execute_result"
    }
   ],
   "source": [
    "#4次関数の2乗和誤差\n",
    "mean_squared_error(y,lin_4d.predict(x_4))"
   ]
  },
  {
   "cell_type": "code",
   "execution_count": null,
   "metadata": {
    "collapsed": true
   },
   "outputs": [],
   "source": []
  }
 ],
 "metadata": {
  "kernelspec": {
   "display_name": "Python 3",
   "language": "python",
   "name": "python3"
  },
  "language_info": {
   "codemirror_mode": {
    "name": "ipython",
    "version": 3
   },
   "file_extension": ".py",
   "mimetype": "text/x-python",
   "name": "python",
   "nbconvert_exporter": "python",
   "pygments_lexer": "ipython3",
   "version": "3.6.0"
  }
 },
 "nbformat": 4,
 "nbformat_minor": 2
}
